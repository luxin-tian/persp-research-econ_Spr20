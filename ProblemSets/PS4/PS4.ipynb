{
 "cells": [
  {
   "cell_type": "markdown",
   "metadata": {},
   "source": [
    "# Problem Set #3"
   ]
  },
  {
   "cell_type": "markdown",
   "metadata": {},
   "source": [
    "## Exercise 2.1"
   ]
  },
  {
   "cell_type": "code",
   "execution_count": 1,
   "metadata": {},
   "outputs": [],
   "source": [
    "import numpy as np\n",
    "import pandas as pd\n",
    "from scipy import optimize\n",
    "from matplotlib import pyplot as plt\n",
    "import time"
   ]
  },
  {
   "cell_type": "code",
   "execution_count": 2,
   "metadata": {},
   "outputs": [],
   "source": [
    "# Setting the parameters\n",
    "A = 1                # productivity scale parameter\n",
    "alpha = 0.35         # capital share of income\n",
    "beta = 0.442         # 20-year discount factor\n",
    "delta = 0.6415       # 20-year depreciation rate\n",
    "sigma = 3            # relative risk aversion coefficient\n",
    "labor = np.array([1, 1, 0.2])       # labor supply of three periods\n",
    "SS_tol = 1e-9                       # error tolerance\n",
    "f_params = (labor, A, alpha, delta) # input parameters\n",
    "\n",
    "# equilibrium following market-clearing conditions\n",
    "get_r = lambda K, L, alpha, delta, A : A * alpha * ((L / K) ** (1 - alpha)) - delta\n",
    "get_w = lambda K, L, alpha, A: A * (1 - alpha) * ((K / L) ** alpha)\n",
    "\n",
    "# Setting the functions\n",
    "get_K = lambda b2, b3: b2 + b3\n",
    "get_cons = lambda b_s, b_s_1, n_s, r, w: w * n_s + (1 + r) * b_s - b_s_1\n",
    "get_util = lambda c, sigma=3: (c ** (1 - sigma))/(1 - sigma)\n",
    "get_MU = lambda c, sigma=3: c ** (-sigma)\n",
    "get_Y = lambda K, L, alpha, A: A * (K ** alpha) * (L ** (1-alpha))"
   ]
  },
  {
   "cell_type": "code",
   "execution_count": 3,
   "metadata": {},
   "outputs": [],
   "source": [
    "def feasible(f_params, bvec_guess):\n",
    "    \n",
    "    labor, A, alpha, delta = f_params\n",
    "    b2, b3 = bvec_guess\n",
    "    K = get_K(b2, b3)\n",
    "    L = np.sum(labor)\n",
    "    r = get_r(K, L, alpha, delta, A)\n",
    "    w = get_w(K, L, alpha, A)\n",
    "    \n",
    "    c1 = get_cons(0, b2, labor[0], r, w)\n",
    "    c2 = get_cons(b2, b3, labor[1], r, w)\n",
    "    c3 = get_cons(b3, 0, labor[2], r, w)\n",
    "    \n",
    "    # Initialize containers for boolean values\n",
    "    b_cnstr = np.zeros(2, dtype = 'bool')\n",
    "    c_cnstr = np.zeros(3, dtype = 'bool')\n",
    "    K_cnstr = ((b2 + b3) <= 0)\n",
    "    \n",
    "    c_cnstr[0], c_cnstr[1], c_cnstr[2] = (c1 <= 0), (c2 <= 0), (c3 <= 0)\n",
    "    \n",
    "    if c_cnstr[0]:\n",
    "        b_cnstr[0] = 1\n",
    "    if c_cnstr[1]:\n",
    "        b_cnstr[0], b_cnstr[1] = 1, 1\n",
    "    if c_cnstr[2]:\n",
    "        b_cnstr[1] = 1\n",
    "        \n",
    "    return b_cnstr, c_cnstr, K_cnstr"
   ]
  },
  {
   "cell_type": "markdown",
   "metadata": {},
   "source": [
    "### 2.1.a"
   ]
  },
  {
   "cell_type": "code",
   "execution_count": 4,
   "metadata": {},
   "outputs": [
    {
     "name": "stdout",
     "output_type": "stream",
     "text": [
      "if violated? b_cnstr, c_cnstr, K_cnstr: \n",
      "(array([ True, False]), array([ True, False, False]), False)\n"
     ]
    }
   ],
   "source": [
    "print('if violated? b_cnstr, c_cnstr, K_cnstr: ')\n",
    "print(feasible(f_params, np.array([1.0, 1.2])))"
   ]
  },
  {
   "cell_type": "markdown",
   "metadata": {},
   "source": [
    "The constraints for period 1 are violated. "
   ]
  },
  {
   "cell_type": "markdown",
   "metadata": {},
   "source": [
    "### 2.1.b"
   ]
  },
  {
   "cell_type": "code",
   "execution_count": 5,
   "metadata": {},
   "outputs": [
    {
     "name": "stdout",
     "output_type": "stream",
     "text": [
      "if violated? b_cnstr, c_cnstr, K_cnstr: \n",
      "(array([False, False]), array([False, False, False]), False)\n"
     ]
    }
   ],
   "source": [
    "print('if violated? b_cnstr, c_cnstr, K_cnstr: ')\n",
    "print(feasible(f_params, np.array([0.06, -0.001])))"
   ]
  },
  {
   "cell_type": "markdown",
   "metadata": {},
   "source": [
    "No constraint is violated. "
   ]
  },
  {
   "cell_type": "markdown",
   "metadata": {},
   "source": [
    "### 2.1.c"
   ]
  },
  {
   "cell_type": "code",
   "execution_count": 6,
   "metadata": {},
   "outputs": [
    {
     "name": "stdout",
     "output_type": "stream",
     "text": [
      "if violated? b_cnstr, c_cnstr, K_cnstr: \n",
      "(array([False, False]), array([False, False, False]), False)\n"
     ]
    }
   ],
   "source": [
    "print('if violated? b_cnstr, c_cnstr, K_cnstr: ')\n",
    "print(feasible(f_params, np.array([0.1, 0.1])))"
   ]
  },
  {
   "cell_type": "markdown",
   "metadata": {},
   "source": [
    "No constraint is violated. "
   ]
  },
  {
   "cell_type": "markdown",
   "metadata": {},
   "source": [
    "## Exercise 2.2"
   ]
  },
  {
   "cell_type": "code",
   "execution_count": 7,
   "metadata": {},
   "outputs": [],
   "source": [
    "var_dict = {\n",
    "    'b_ss': 'savings', \n",
    "    'c_ss': 'consumptions', \n",
    "    'w_ss': 'wage', \n",
    "    'r_ss': 'interest rate', \n",
    "    'K_ss': 'capital', \n",
    "    'Y_ss': 'output', \n",
    "    'C_ss': 'Total consumption', \n",
    "    'EulErr_ss': 'Euler errors', \n",
    "    'RCerr_ss': 'resource constraint error', \n",
    "    'ss_time': 'task runtime'\n",
    "}\n",
    "\n",
    "def get_SS(params, bvec_guess, SS_graphs=False):\n",
    "    \n",
    "    def eul_eqs(bvec, f_params):\n",
    "        labor, A, alpha, delta, beta = f_params\n",
    "        b2, b3 = bvec\n",
    "        L = labor.sum()\n",
    "        K = get_K(b2, b3)\n",
    "        r = get_r(K, L, alpha, delta, A)\n",
    "        w = get_w(K, L, alpha, A)\n",
    "        c1 = get_cons(0, b2, labor[0], r, w)\n",
    "        c2 = get_cons(b2, b3, labor[1], r, w)\n",
    "        c3 = get_cons(b3, 0, labor[2], r, w)\n",
    "        MU1, MU2, MU3 = get_MU(c1), get_MU(c2), get_MU(c3)\n",
    "        Eul1 = MU1 - beta * (1 + r) * MU2\n",
    "        Eul2 = MU2 - beta * (1 + r) * MU3\n",
    "        return np.array([Eul1, Eul2])\n",
    "    \n",
    "    start_time = time.perf_counter()\n",
    "    beta, sigma, labor, L, A, alpha, delta, SS_tol = params\n",
    "    f_params = np.array([labor, A, alpha, delta, beta])\n",
    "    b_ss = optimize.root(eul_eqs, bvec_guess, args = (f_params)).x\n",
    "    b2, b3 = b_ss\n",
    "    K_ss = get_K(b2, b3)\n",
    "    r_ss = get_r(K_ss, L, alpha, delta, A)\n",
    "    Y_ss = get_Y(K_ss, L, alpha, A)\n",
    "    w_ss = get_w(K_ss, L, alpha, A)\n",
    "    c1 = get_cons(0, b2, labor[0], r_ss, w_ss)\n",
    "    c2 = get_cons(b2, b3, labor[1], r_ss, w_ss)\n",
    "    c3 = get_cons(b3, 0, labor[2], r_ss, w_ss)\n",
    "    c_ss = np.array([c1, c2, c3])\n",
    "    C_ss = c_ss.sum()\n",
    "    EulErr_ss = eul_eqs(b_ss, f_params)\n",
    "    RCerr_ss = Y_ss - C_ss - delta * K_ss\n",
    "    ss_time = time.perf_counter() - start_time\n",
    "    \n",
    "    ss_output = {\n",
    "    'b_ss': b_ss, 'c_ss': c_ss, 'w_ss': w_ss, 'r_ss': r_ss,\n",
    "    'K_ss': K_ss, 'Y_ss': Y_ss, 'C_ss': C_ss,\n",
    "    'EulErr_ss': EulErr_ss, 'RCerr_ss': RCerr_ss,\n",
    "    'ss_time': ss_time}\n",
    "    \n",
    "    if SS_graphs:\n",
    "        fig, ax = plt.subplots()\n",
    "        ax.plot(np.arange(1,4), c_ss, marker = 'o', label = 'consumptions')\n",
    "        ax.plot(np.arange(2,4), b_ss, marker = 'o', label = 'savings')\n",
    "        ax.legend()\n",
    "        ax.set_title('Steady-state Distribution of Consumptions and Savings by Age')\n",
    "        plt.show()\n",
    "        \n",
    "    return ss_output"
   ]
  },
  {
   "cell_type": "markdown",
   "metadata": {},
   "source": [
    "### 2.2.a, b"
   ]
  },
  {
   "cell_type": "code",
   "execution_count": 8,
   "metadata": {},
   "outputs": [
    {
     "data": {
      "image/png": "[encoded data removed]",
      "text/plain": [
       "<Figure size 432x288 with 1 Axes>"
      ]
     },
     "metadata": {
      "needs_background": "light"
     },
     "output_type": "display_data"
    }
   ],
   "source": [
    "params = [beta, sigma, labor, labor.sum(), A, alpha, delta, SS_tol]\n",
    "bvec_guess = np.array([0.1, 0.1])\n",
    "ss_output = get_SS(params, bvec_guess, SS_graphs=True)"
   ]
  },
  {
   "cell_type": "code",
   "execution_count": 9,
   "metadata": {},
   "outputs": [
    {
     "name": "stdout",
     "output_type": "stream",
     "text": [
      "b_ss       savings                    [0.01931253 0.0584111 ]\n",
      "c_ss       consumptions               [0.18241213 0.20961468 0.24087387]\n",
      "w_ss       wage                       0.20172465739052575\n",
      "r_ss       interest rate              2.433062339127069\n",
      "K_ss       capital                    0.07772362575316386\n",
      "Y_ss       output                     0.6827603788602411\n",
      "C_ss       Total consumption          0.6329006729395864\n",
      "EulErr_ss  Euler errors               [-1.39266376e-12  2.62900812e-12]\n",
      "RCerr_ss   resource constraint error  8.326672684688674e-17\n",
      "ss_time    task runtime               0.0006485329999996736\n"
     ]
    }
   ],
   "source": [
    "for key, value in ss_output.items(): \n",
    "    print(key, \n",
    "          ' ' * (9 - len(key)), \n",
    "          var_dict[key], \n",
    "          ' ' * (25 - len(var_dict[key])), \n",
    "          value)"
   ]
  },
  {
   "cell_type": "markdown",
   "metadata": {},
   "source": [
    "### 2.2.c"
   ]
  },
  {
   "cell_type": "code",
   "execution_count": 10,
   "metadata": {},
   "outputs": [
    {
     "data": {
      "image/png": "[encoded data removed]",
      "text/plain": [
       "<Figure size 432x288 with 1 Axes>"
      ]
     },
     "metadata": {
      "needs_background": "light"
     },
     "output_type": "display_data"
    }
   ],
   "source": [
    "params2 = [0.55, sigma, labor, labor.sum(), A, alpha, delta, SS_tol]\n",
    "ss_output2 = get_SS(params2, bvec_guess, SS_graphs=True)"
   ]
  },
  {
   "cell_type": "code",
   "execution_count": 11,
   "metadata": {},
   "outputs": [
    {
     "name": "stdout",
     "output_type": "stream",
     "text": [
      "b_ss       savings                    [0.02817692 0.07686545]\n",
      "c_ss       consumptions               [0.19597528 0.22861594 0.26669307]\n",
      "w_ss       wage                       0.22415219593446706\n",
      "r_ss       interest rate              1.8863765057189819\n",
      "K_ss       capital                    0.1050423702259807\n",
      "Y_ss       output                     0.7586689708551193\n",
      "C_ss       Total consumption          0.6912842903551526\n",
      "EulErr_ss  Euler errors               [6.87805368e-12 2.52953214e-12]\n",
      "RCerr_ss   resource constraint error  9.71445146547012e-17\n",
      "ss_time    task runtime               0.00048596399999922824\n"
     ]
    }
   ],
   "source": [
    "for key, value in ss_output2.items(): \n",
    "    print(key, \n",
    "          ' ' * (9 - len(key)), \n",
    "          var_dict[key], \n",
    "          ' ' * (25 - len(var_dict[key])), \n",
    "          value)"
   ]
  },
  {
   "cell_type": "markdown",
   "metadata": {},
   "source": [
    "If all households become more patient, that is, $\\beta$ increases, wage $\\bar{w}$, savings $\\bar{b}$, and consumptions $\\bar{c}$ increase, and the interest rate $\\bar{r}$ decreases.\n",
    "\n",
    "The intuition is that when the discount rate increase, people value the future more and the presence less, so that people save more for the future, which drives the interest rate to decrease to make the capital market clear. Then, firms rent more capital until the marginal productivity of capital equals the decreased interest rate. More capital increases marginal productivity of labor, which is by the assumption of the utility function and reasonable since more equipment helps workers produce more at the margin. This leads to higher wage and then, higher consumptions. "
   ]
  },
  {
   "cell_type": "markdown",
   "metadata": {},
   "source": [
    "## Exercise 2.3"
   ]
  },
  {
   "cell_type": "code",
   "execution_count": 12,
   "metadata": {},
   "outputs": [],
   "source": [
    "def timepath(K_path_update, K_init, K_ss, T, A, alpha, delta, labor, m, Type):\n",
    "    path = np.zeros([T + m, 4])\n",
    "    period_path  = np.arange(1, T + m +1)\n",
    "    if Type == \"linear\":\n",
    "        K_path = np.linspace(K_init, K_ss, num = T)\n",
    "    if Type == \"update\":\n",
    "        K_path = K_path_update\n",
    "    path[: , 0] = period_path\n",
    "    path[: -m, 1] = K_path\n",
    "    path[-m: , 1] = K_ss\n",
    "    path[: , 2] = get_w(path[: , 1], labor.sum(), alpha, A)\n",
    "    path[: , 3] = get_r(path[: , 1], labor.sum(), alpha, delta, A)\n",
    "    return path"
   ]
  },
  {
   "cell_type": "code",
   "execution_count": 13,
   "metadata": {},
   "outputs": [],
   "source": [
    "def EulErr(bvec, *args):\n",
    "    w1, w2, w3, r2, r3, beta, alpha, delta, sigma, A, labor = args\n",
    "    b2, b3 = bvec\n",
    "    L = labor.sum()\n",
    "    K = get_K(b2, b3)\n",
    "    c1 = get_cons(0, b2, labor[0], r2, w1)\n",
    "    c2 = get_cons(b2, b3, labor[1], r2, w2)\n",
    "    c3 = get_cons(b3, 0, labor[2], r3, w3)\n",
    "    MU1 = get_MU(c1)\n",
    "    MU2 = get_MU(c2)\n",
    "    MU3 = get_MU(c3)\n",
    "    Eul1 = MU1 - beta*(1+r2) * MU2\n",
    "    Eul2 = MU2 - beta*(1+r3) * MU3\n",
    "    Euler_errs = np.array([Eul1, Eul2])\n",
    "    return Euler_errs"
   ]
  },
  {
   "cell_type": "code",
   "execution_count": 14,
   "metadata": {},
   "outputs": [],
   "source": [
    "def solve_path(path, *args):\n",
    "    bvec_init_val, T, m, beta, alpha, delta, sigma, A, labor, bvec_ss = args\n",
    "    b_mat = np.zeros([T + m, 3])\n",
    "    b_mat[0, 0:-1] = bvec_init_val\n",
    "    def get_b32(b32, *args):\n",
    "        r2, r3, b21, w2, w3, beta, sigma, labor = args\n",
    "        c2  = get_cons(b21, b32, labor[1], r2, w2)\n",
    "        c3  = get_cons(b32, 0, labor[2], r3, w3)\n",
    "        MU2 = get_MU(c2)\n",
    "        MU3 = get_MU(c3)\n",
    "        error =  MU2 - beta * (1 + r3) * MU3\n",
    "        return error\n",
    "    b32_init = 0.1\n",
    "    b32_args  = (path[0 , 3], path[1 , 3], b_mat[0 , 0], path[0 , 2], path[1 , 2], beta, sigma, labor)\n",
    "    b32 = optimize.root(get_b32, b32_init, args = (b32_args))\n",
    "    b32 = b32.x\n",
    "    b_mat[1 , 1] = b32\n",
    "    for i in range(path.shape[0]-2):\n",
    "        w1 = path[i - 1 , 2]\n",
    "        w2 = path[i , 2]\n",
    "        w3 = path[i + 1 , 2]\n",
    "        r2 = path[i , 3]\n",
    "        r3 = path[i + 1, 3]\n",
    "        ts_args = (w1, w2, w3, r2, r3, beta, alpha, delta, sigma, A, labor)\n",
    "        bvec_ts = optimize.root(EulErr, bvec_init, args = (ts_args))\n",
    "        b_mat[i , 0] = bvec_ts.x[0]\n",
    "        b_mat[i + 1, 1] = bvec_ts.x[1]\n",
    "    b_mat[: , 2] = b_mat[: , 0] + b_mat[: , 1]\n",
    "    return b_mat"
   ]
  },
  {
   "cell_type": "code",
   "execution_count": 15,
   "metadata": {},
   "outputs": [],
   "source": [
    "def TPI(path_init, xival, tol, *args):\n",
    "    bvec_init, T, m, beta, alpha, delta, sigma, A, labor, bvec_ss, K_ss = args\n",
    "    b_mat = np.zeros([T + m, 3])\n",
    "    b_mat[0, 0:-1] = bvec_init\n",
    "    b_HH_init  = solve_path(path_init, bvec_init, T, m, beta, alpha, delta, sigma, A, labor, bvec_ss)\n",
    "    diff_init = sum(((path_init[: -m, 1] - b_HH_init[: -m, 2])/path_init[: -m, 1])**2)\n",
    "    if diff_init > tol:\n",
    "        path = path_init\n",
    "        b_HH = b_HH_init\n",
    "        diff = diff_init\n",
    "        iter_num = 0\n",
    "        while diff > tol:\n",
    "            update = xival * b_HH[: -m, 2] + (1 - xival) * path[: -m, 1]\n",
    "            path = timepath(update, 0, K_ss, T, A, alpha, delta, labor, m, \"update\")\n",
    "            b_HH = solve_path(path, bvec_init, T, m, beta, alpha, delta, sigma, A, labor, bvec_ss)\n",
    "            diff = sum(((path[: -m, 1] - b_HH[: -m, 2])/path[: -m, 1])**2)\n",
    "            iter_num = iter_num + 1\n",
    "#             print(\"iteration: \", iter_num, \"       difference: \", diff)\n",
    "\n",
    "        result = (path, b_HH)\n",
    "    else:\n",
    "        result =  (path_init, b_HH_init)\n",
    "    return result"
   ]
  },
  {
   "cell_type": "code",
   "execution_count": 16,
   "metadata": {},
   "outputs": [],
   "source": [
    "xival = 0.2\n",
    "tol = 1e-9\n",
    "bvec_init = np.array([0.8 * ss_output['b_ss'][0], 1.1 * ss_output['b_ss'][1]])\n",
    "T = 30\n",
    "m = 25\n",
    "bvec_ss = ss_output['b_ss']\n",
    "K_ss = ss_output['K_ss']\n",
    "K_init = bvec_init.sum()\n",
    "path_init = timepath(0, K_init, K_ss, T, A, alpha, delta, labor, m, \"linear\")"
   ]
  },
  {
   "cell_type": "code",
   "execution_count": 17,
   "metadata": {},
   "outputs": [],
   "source": [
    "### 2.3.a"
   ]
  },
  {
   "cell_type": "code",
   "execution_count": 18,
   "metadata": {},
   "outputs": [],
   "source": [
    "path = TPI(path_init, xival, tol,  bvec_init, T, m, beta, alpha, delta, sigma, A, labor, bvec_ss, K_ss)"
   ]
  },
  {
   "cell_type": "code",
   "execution_count": 19,
   "metadata": {},
   "outputs": [],
   "source": [
    "K_path = path[0][:, [0 , 1]]\n",
    "w_path = path[0][:, [0 , 2]]\n",
    "r_path = path[0][:, [0 , 3]]\n",
    "b_path = path[1][:,:2]"
   ]
  },
  {
   "cell_type": "code",
   "execution_count": 20,
   "metadata": {},
   "outputs": [],
   "source": [
    "Eulerr_path = np.zeros((30, 2))\n",
    "RCerr_path = np.zeros(30)\n",
    "for i in range(30):\n",
    "    if i == 0:\n",
    "        rt = rt1 = r_path[0,1]\n",
    "        wt = wt1 = w_path[0,1]\n",
    "        b2t = b2t1 = b_path[0, 0]\n",
    "        b3t = b3t1 = b_path[0, 1]\n",
    "    else:\n",
    "        rt, rt1 = r_path[i, 1], r_path[i-1, 1]\n",
    "        b2t, b3t = b_path[i,:]\n",
    "        b2t1, b3t1 = b_path[i-1, :]\n",
    "        wt, wt1 = w_path[i,1], w_path[i-1, 1]\n",
    "    Kt = K_path[i,1]\n",
    "    Kt_1 = K_path[i+1, 1]\n",
    "    Yt = get_Y(Kt, labor.sum(), alpha, A)\n",
    "    c1t = get_cons(0, b2t, labor[0], rt, wt)\n",
    "    c2t = get_cons(b2t1, b3t, labor[1], rt1, wt)\n",
    "    c3t = get_cons(b3t1, 0, labor[2], rt1, wt)\n",
    "    Ct = c1t + c2t + c3t\n",
    "    RCerr_path[i] = Yt - Ct - Kt_1 + (1 - delta) * Kt\n",
    "    Eulerr_path[i, :] = EulErr(b_path[i, :], w_path[i,1], w_path[i+1,1], \n",
    "                               w_path[i+2,1], r_path[i+1,1], r_path[i+2,1], \n",
    "                               beta, alpha, delta, sigma, A, labor)"
   ]
  },
  {
   "cell_type": "code",
   "execution_count": 21,
   "metadata": {},
   "outputs": [
    {
     "name": "stdout",
     "output_type": "stream",
     "text": [
      "Maximum of the absolute values of all the Euler errors across the entire time path:  37.40391904166589\n",
      "Maximum of the absolute values of all the resource constraint errors across the entire time path:  0.005773427356908781\n"
     ]
    }
   ],
   "source": [
    "print('Maximum of the absolute values of all the Euler errors across the entire time path: ', \n",
    "      np.abs(Eulerr_path).max())\n",
    "print('Maximum of the absolute values of all the resource constraint errors across the entire time path: ', \n",
    "      np.abs(RCerr_path).max())"
   ]
  },
  {
   "cell_type": "markdown",
   "metadata": {},
   "source": [
    "### 2.3.b"
   ]
  },
  {
   "cell_type": "code",
   "execution_count": 22,
   "metadata": {},
   "outputs": [
    {
     "data": {
      "image/png": "[encoded data removed]",
      "text/plain": [
       "<Figure size 432x288 with 1 Axes>"
      ]
     },
     "metadata": {
      "needs_background": "light"
     },
     "output_type": "display_data"
    }
   ],
   "source": [
    "K_fig = plt.figure()\n",
    "plt.plot(K_path[: , 0], K_path[: , 1])\n",
    "plt.xlabel('period')\n",
    "plt.ylabel('aggregate capital stock')\n",
    "plt.title('Equilibrium time path of aggregate capital stock')\n",
    "plt.show()"
   ]
  },
  {
   "cell_type": "code",
   "execution_count": 23,
   "metadata": {},
   "outputs": [
    {
     "data": {
      "image/png": "[encoded data removed]",
      "text/plain": [
       "<Figure size 432x288 with 1 Axes>"
      ]
     },
     "metadata": {
      "needs_background": "light"
     },
     "output_type": "display_data"
    }
   ],
   "source": [
    "w_fig = plt.figure()\n",
    "plt.plot(w_path[: , 0], w_path[: , 1])\n",
    "plt.xlabel('period')\n",
    "plt.ylabel('wage')\n",
    "plt.title('Time path of wage')\n",
    "plt.show()"
   ]
  },
  {
   "cell_type": "code",
   "execution_count": 24,
   "metadata": {},
   "outputs": [
    {
     "data": {
      "image/png": "[encoded data removed]",
      "text/plain": [
       "<Figure size 432x288 with 1 Axes>"
      ]
     },
     "metadata": {
      "needs_background": "light"
     },
     "output_type": "display_data"
    }
   ],
   "source": [
    "r_fig = plt.figure()\n",
    "plt.plot(r_path[: , 0], r_path[: , 1])\n",
    "plt.xlabel('period')\n",
    "plt.ylabel('interest rate')\n",
    "plt.title('Time path of interest rate')\n",
    "plt.show()"
   ]
  },
  {
   "cell_type": "markdown",
   "metadata": {},
   "source": [
    "### 2.3.c"
   ]
  },
  {
   "cell_type": "code",
   "execution_count": 25,
   "metadata": {},
   "outputs": [
    {
     "name": "stdout",
     "output_type": "stream",
     "text": [
      "Number of periods until getting within 0.00001 of the steady-state aggregate capital stock: 12 periods \n"
     ]
    }
   ],
   "source": [
    "for i in range(50):\n",
    "    K = K_path[i, 1]\n",
    "    if abs(K - K_ss) <= 1e-05:\n",
    "        print('Number of periods until getting within 0.00001 of the steady-state aggregate capital stock: {} periods '.format(int(K_path[i, 0])))\n",
    "        break"
   ]
  },
  {
   "cell_type": "code",
   "execution_count": 26,
   "metadata": {},
   "outputs": [
    {
     "name": "stdout",
     "output_type": "stream",
     "text": [
      " After period 12, the aggregate capital stock never is again farther than 0.00001 away from the steady-state.\n"
     ]
    }
   ],
   "source": [
    "for i in range(50):\n",
    "    K_mat = K_path[i:, 1]\n",
    "    Diff = np.abs(K_mat - K_ss)\n",
    "    if np.sum(Diff > 1e-05) == 0:\n",
    "        print(\" After period {}, the aggregate capital stock never is again farther than 0.00001 away from the steady-state.\".format(int(K_path[i, 0])))\n",
    "        break"
   ]
  },
  {
   "cell_type": "code",
   "execution_count": null,
   "metadata": {},
   "outputs": [],
   "source": []
  },
  {
   "cell_type": "code",
   "execution_count": null,
   "metadata": {},
   "outputs": [],
   "source": []
  }
 ],
 "metadata": {
  "kernelspec": {
   "display_name": "Python 3",
   "language": "python",
   "name": "python3"
  },
  "language_info": {
   "codemirror_mode": {
    "name": "ipython",
    "version": 3
   },
   "file_extension": ".py",
   "mimetype": "text/x-python",
   "name": "python",
   "nbconvert_exporter": "python",
   "pygments_lexer": "ipython3",
   "version": "3.7.4"
  }
 },
 "nbformat": 4,
 "nbformat_minor": 4
}
